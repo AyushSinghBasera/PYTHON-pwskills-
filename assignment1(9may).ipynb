{
 "cells": [
  {
   "cell_type": "markdown",
   "id": "33fd727f-0956-4090-bbec-3d8a2677243a",
   "metadata": {},
   "source": [
    "Ans1:\n",
    " (i) string\n",
    "str_variable = \"Hello, World!\"\n",
    "\n",
    " (ii) list\n",
    "list_variable = [1, 2, 3, 4, 5]\n",
    "\n",
    "(iii) float\n",
    "float_variable = 3.14\n",
    "\n",
    "(iv) tuple\n",
    "tuple_variable = (10, 20, 30)\n"
   ]
  },
  {
   "cell_type": "markdown",
   "id": "f03bfaee-bda5-4b42-ba39-5e16a1429a66",
   "metadata": {},
   "source": [
    "Ans2:\n",
    "  \n",
    "type_var1 = str\n",
    "\n",
    "type_var2 = str\n",
    "\n",
    "type_var3 = list\n",
    "\n",
    "type_var4 = float\n"
   ]
  },
  {
   "cell_type": "markdown",
   "id": "d87224a4-a4b7-42fc-9c15-63e8c4beb614",
   "metadata": {},
   "source": [
    "Ans3:\n",
    "     (i) /\n",
    "result_division = 10 / 3  # Result: 3.3333...\n",
    "\n",
    "#(ii) %\n",
    "remainder = 10 % 3  # Result: 1 (remainder of the division)\n",
    "\n",
    " (iii) //\n",
    "integer_division = 10 // 3  # Result: 3 (floor division, discards the decimal part)\n",
    "\n",
    " (iv) **\n",
    "exponential = 2 ** 3  # Result: 8 (2 raised to the power of 3)\n"
   ]
  },
  {
   "cell_type": "markdown",
   "id": "0c44497f-982d-4467-a35d-31e6cd36c361",
   "metadata": {},
   "source": [
    "Ans4:"
   ]
  },
  {
   "cell_type": "code",
   "execution_count": 1,
   "id": "e48005a1-0dd0-447a-bfc2-ea0e6f421209",
   "metadata": {},
   "outputs": [
    {
     "name": "stdout",
     "output_type": "stream",
     "text": [
      "1: <class 'int'>\n",
      "hello: <class 'str'>\n",
      "3.14: <class 'float'>\n",
      "True: <class 'bool'>\n",
      "[1, 2, 3]: <class 'list'>\n",
      "{'a': 1}: <class 'dict'>\n",
      "(4, 5): <class 'tuple'>\n",
      "None: <class 'NoneType'>\n",
      "world: <class 'str'>\n",
      "9: <class 'int'>\n"
     ]
    }
   ],
   "source": [
    "list = [1, \"hello\", 3.14, True, [1, 2, 3], {'a': 1}, (4, 5), None, \"world\", 9]\n",
    "\n",
    "for i in list:\n",
    "    print(f\"{i}: {type(i)}\")\n"
   ]
  },
  {
   "cell_type": "markdown",
   "id": "8241473c-46f9-4285-8204-3d49f56eca90",
   "metadata": {},
   "source": [
    "Ans5"
   ]
  },
  {
   "cell_type": "code",
   "execution_count": 4,
   "id": "b4514ac4-4a71-45a7-813e-7a18449b3c72",
   "metadata": {},
   "outputs": [
    {
     "name": "stdin",
     "output_type": "stream",
     "text": [
      "Enter the value for A:  25\n",
      "Enter the value for B:  5\n"
     ]
    },
    {
     "name": "stdout",
     "output_type": "stream",
     "text": [
      "1.0 is divisible by 5 2 times.\n"
     ]
    }
   ],
   "source": [
    "\n",
    "A = int(input(\"Enter the value for A: \"))\n",
    "B = int(input(\"Enter the value for B: \"))\n",
    "count = 0\n",
    "\n",
    "while A % B == 0:\n",
    "    A /= B\n",
    "    count += 1\n",
    "\n",
    "if count > 0:\n",
    "    print(f\"{A} is divisible by {B} {count} times.\")\n",
    "else:\n",
    "    print(f\"{A} is not divisible by {B}.\")\n",
    "\n"
   ]
  },
  {
   "cell_type": "markdown",
   "id": "e842bcca-5d20-4790-9981-e56526f9fcd1",
   "metadata": {},
   "source": [
    "Ans6:"
   ]
  },
  {
   "cell_type": "code",
   "execution_count": 7,
   "id": "55e7a331-d9d2-4a78-b042-b74b75fc97fe",
   "metadata": {},
   "outputs": [
    {
     "ename": "TypeError",
     "evalue": "'list' object is not callable",
     "output_type": "error",
     "traceback": [
      "\u001b[0;31m---------------------------------------------------------------------------\u001b[0m",
      "\u001b[0;31mTypeError\u001b[0m                                 Traceback (most recent call last)",
      "Cell \u001b[0;32mIn[7], line 2\u001b[0m\n\u001b[1;32m      1\u001b[0m \u001b[38;5;66;03m# Create a list containing 25 int type data\u001b[39;00m\n\u001b[0;32m----> 2\u001b[0m int_list \u001b[38;5;241m=\u001b[39m \u001b[38;5;28;43mlist\u001b[39;49m\u001b[43m(\u001b[49m\u001b[38;5;28;43mrange\u001b[39;49m\u001b[43m(\u001b[49m\u001b[38;5;241;43m1\u001b[39;49m\u001b[43m,\u001b[49m\u001b[43m \u001b[49m\u001b[38;5;241;43m26\u001b[39;49m\u001b[43m)\u001b[49m\u001b[43m)\u001b[49m\n\u001b[1;32m      4\u001b[0m \u001b[38;5;66;03m# Using a for loop and if-else condition to check divisibility by 3\u001b[39;00m\n\u001b[1;32m      5\u001b[0m \u001b[38;5;28;01mfor\u001b[39;00m num \u001b[38;5;129;01min\u001b[39;00m int_list:\n",
      "\u001b[0;31mTypeError\u001b[0m: 'list' object is not callable"
     ]
    }
   ],
   "source": [
    "\n",
    "int_list = list(range(1, 26))\n",
    "\n",
    "for num in int_list:\n",
    "    if num % 3 == 0:\n",
    "        print(f\"{num} is divisible by 3\")\n",
    "    else:\n",
    "        print(f\"{num} is not divisible by 3\")\n"
   ]
  },
  {
   "cell_type": "markdown",
   "id": "0f07409d-3200-4d51-bc7e-4dd1a59de791",
   "metadata": {},
   "source": [
    "Ans7: \n",
    "    Mutable data types can be changed or modified after creation, whereas immutable data types cannot be changed.\n",
    "\n",
    "Examples:\n",
    "\n",
    "Mutable: Lists, Dictionaries\n"
   ]
  },
  {
   "cell_type": "code",
   "execution_count": null,
   "id": "da3b1cd8-79b6-480c-a0b2-42ba13bc91f8",
   "metadata": {},
   "outputs": [],
   "source": [
    "list = [1, 2, 3]\n",
    "mutable_list[0] = 99  # Modifying the list\n"
   ]
  }
 ],
 "metadata": {
  "kernelspec": {
   "display_name": "Python 3 (ipykernel)",
   "language": "python",
   "name": "python3"
  },
  "language_info": {
   "codemirror_mode": {
    "name": "ipython",
    "version": 3
   },
   "file_extension": ".py",
   "mimetype": "text/x-python",
   "name": "python",
   "nbconvert_exporter": "python",
   "pygments_lexer": "ipython3",
   "version": "3.10.8"
  }
 },
 "nbformat": 4,
 "nbformat_minor": 5
}
