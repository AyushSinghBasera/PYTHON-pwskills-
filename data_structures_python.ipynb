{
 "cells": [
  {
   "cell_type": "markdown",
   "id": "7f062ddc-7cc4-4760-bf49-3e041a2cc01a",
   "metadata": {},
   "source": [
    "Ans1: \n",
    "  # This is a single-line comment\n",
    "\n",
    "\"\"\"\n",
    "This is a\n",
    "multi-line comment\n",
    "\"\"\"\n"
   ]
  },
  {
   "cell_type": "markdown",
   "id": "862b6821-764f-45aa-8093-85d662e45054",
   "metadata": {},
   "source": [
    "Ans2:In Python, variables are used to store data values. You can declare a variable by assigning a value to it using the '=' operator. Python is dynamically typed, so you don't need to explicitly declare the variable type.\n",
    "eg:\n",
    "x = 10\n",
    "name = \"John\"\n",
    "\n"
   ]
  },
  {
   "cell_type": "markdown",
   "id": "becba7c6-5031-4f16-a448-4a41d48e08a9",
   "metadata": {},
   "source": [
    "Ans3:You can use built-in functions like int(), float(), str(), etc., to convert one data type to another.\n",
    "\n",
    "Example:"
   ]
  },
  {
   "cell_type": "code",
   "execution_count": 2,
   "id": "a0066a21-55ff-432e-8841-649ffd90a938",
   "metadata": {},
   "outputs": [],
   "source": [
    "num_str = \"123\"\n",
    "num_int = int(num_str)\n"
   ]
  },
  {
   "cell_type": "code",
   "execution_count": 3,
   "id": "0234cd87-e7b1-40c4-8771-8ecb17fd78f3",
   "metadata": {},
   "outputs": [],
   "source": [
    "num_int = 42\n",
    "num_str = str(num_int)\n"
   ]
  },
  {
   "cell_type": "code",
   "execution_count": 4,
   "id": "1c6162c4-bc13-4164-bfd7-66569fc41660",
   "metadata": {},
   "outputs": [],
   "source": [
    "value = 42\n",
    "is_true = bool(value)\n"
   ]
  },
  {
   "cell_type": "code",
   "execution_count": null,
   "id": "78fe4353-a4c8-411d-9fbd-b2386c507fea",
   "metadata": {},
   "outputs": [],
   "source": [
    "my_list = [1, 2, 3]\n",
    "my_tuple = tuple(my_list)\n"
   ]
  },
  {
   "cell_type": "markdown",
   "id": "f1b05837-b1cf-4293-9fb5-6c14de7334ac",
   "metadata": {},
   "source": [
    "Ans4: \n",
    "*Create a Python script with a ' .py 'extension.\n",
    "*Open a command prompt or terminal.\n",
    "*Navigate to the directory containing your script.\n",
    "*Run the script using the python command."
   ]
  },
  {
   "cell_type": "code",
   "execution_count": null,
   "id": "86bd8381-8ea4-4a80-ae1f-a97e01117272",
   "metadata": {},
   "outputs": [],
   "source": [
    "python my_script.py"
   ]
  },
  {
   "cell_type": "markdown",
   "id": "8ea346b1-3b3d-45bb-9c68-c8e3c0619c5e",
   "metadata": {},
   "source": [
    "Ans5: "
   ]
  },
  {
   "cell_type": "code",
   "execution_count": 5,
   "id": "2a852e20-774b-469e-9a3c-bae72afa2375",
   "metadata": {},
   "outputs": [
    {
     "name": "stdout",
     "output_type": "stream",
     "text": [
      "[2, 3]\n"
     ]
    }
   ],
   "source": [
    "my_list = [1, 2, 3, 4, 5]\n",
    "sub_list = my_list[1:3]\n",
    "print(sub_list)\n"
   ]
  },
  {
   "cell_type": "markdown",
   "id": "3cc30098-499d-43c7-b933-c43f1d6a9fda",
   "metadata": {},
   "source": [
    "Ans6:In mathematics, a complex number is a number that comprises a real part and an imaginary part. In Python, you can represent a complex number using the 'j' or 'J' suffix.\n",
    "\n",
    "example- complex_num = 2 + 3j"
   ]
  },
  {
   "cell_type": "markdown",
   "id": "e4f25f4e-66dc-41d4-965c-5396c0f34a59",
   "metadata": {},
   "source": [
    "Ans7:age = 25"
   ]
  },
  {
   "cell_type": "markdown",
   "id": "bcc300b3-61d0-448b-94ff-fdc46714abf1",
   "metadata": {},
   "source": [
    "Ans8: price = 9.99\n",
    " The variable 'price' belongs to the float data type.\n"
   ]
  },
  {
   "cell_type": "code",
   "execution_count": null,
   "id": "71e5ca9b-b580-49c4-bb1c-c7d988a6b25b",
   "metadata": {},
   "outputs": [],
   "source": [
    "Ans9:"
   ]
  },
  {
   "cell_type": "code",
   "execution_count": 6,
   "id": "d3ead946-42f8-4edb-94ec-09b595705fd3",
   "metadata": {},
   "outputs": [
    {
     "name": "stdout",
     "output_type": "stream",
     "text": [
      "Ayush Singh Basera\n"
     ]
    }
   ],
   "source": [
    "name = \"Ayush Singh Basera\"\n",
    "print(name)\n"
   ]
  },
  {
   "cell_type": "markdown",
   "id": "78f68c1f-8d45-4f83-a574-7b84e0e3dcce",
   "metadata": {},
   "source": [
    "Ans10:"
   ]
  },
  {
   "cell_type": "code",
   "execution_count": 7,
   "id": "92dcb165-f124-49b4-9975-4ff19ffb5153",
   "metadata": {},
   "outputs": [
    {
     "name": "stdout",
     "output_type": "stream",
     "text": [
      "World!\n"
     ]
    }
   ],
   "source": [
    "my_string = \"Hello, World!\"\n",
    "substring = my_string[7:]\n",
    "print(substring)\n"
   ]
  },
  {
   "cell_type": "markdown",
   "id": "53b261ca-31a2-4c9a-9cd9-c9faae2dd34d",
   "metadata": {},
   "source": [
    "Ans11:\n"
   ]
  },
  {
   "cell_type": "code",
   "execution_count": null,
   "id": "08989e93-9193-46f5-8779-e6d4baa71a2b",
   "metadata": {},
   "outputs": [],
   "source": [
    "is_student = True  # or False, depending on student status\n"
   ]
  }
 ],
 "metadata": {
  "kernelspec": {
   "display_name": "Python 3 (ipykernel)",
   "language": "python",
   "name": "python3"
  },
  "language_info": {
   "codemirror_mode": {
    "name": "ipython",
    "version": 3
   },
   "file_extension": ".py",
   "mimetype": "text/x-python",
   "name": "python",
   "nbconvert_exporter": "python",
   "pygments_lexer": "ipython3",
   "version": "3.10.8"
  }
 },
 "nbformat": 4,
 "nbformat_minor": 5
}
