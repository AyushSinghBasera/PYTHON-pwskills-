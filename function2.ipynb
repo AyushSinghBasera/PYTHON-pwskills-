{
 "cells": [
  {
   "cell_type": "markdown",
   "id": "0b08c021-7060-4945-aa64-5ba59b8315a6",
   "metadata": {},
   "source": [
    "Ans1:"
   ]
  },
  {
   "cell_type": "code",
   "execution_count": 1,
   "id": "e4b68ec1-c4a9-4c27-876c-26736efd34dc",
   "metadata": {},
   "outputs": [
    {
     "name": "stdout",
     "output_type": "stream",
     "text": [
      "Original List:  [('blue', 25, 20), ('red', 21, 35), ('yellow', 60, 27)]\n",
      "Sorted list:  [('red', 21, 35), ('blue', 25, 20), ('yellow', 60, 27)]\n"
     ]
    }
   ],
   "source": [
    "lst1=[('blue',25,20),('red',21,35),('yellow',60,27)]\n",
    "sorted_list=sorted(lst1,key=lambda x:int(x[1]))\n",
    "print(\"Original List: \",lst1)\n",
    "print(\"Sorted list: \", sorted_list)"
   ]
  },
  {
   "cell_type": "markdown",
   "id": "31423fc5-4735-44a7-adc2-2243effaf201",
   "metadata": {},
   "source": [
    "Ans2:"
   ]
  },
  {
   "cell_type": "code",
   "execution_count": 3,
   "id": "88e65c95-4334-4995-82d9-f8932d0c984a",
   "metadata": {},
   "outputs": [
    {
     "data": {
      "text/plain": [
       "[1, 4, 9, 16, 25]"
      ]
     },
     "execution_count": 3,
     "metadata": {},
     "output_type": "execute_result"
    }
   ],
   "source": [
    "l1=[1,2,3,4,5]\n",
    "list(map(lambda x:x**2,l1))"
   ]
  },
  {
   "cell_type": "markdown",
   "id": "79503af5-f69c-425a-aa37-007e2f3aab10",
   "metadata": {},
   "source": [
    "Ans3:"
   ]
  },
  {
   "cell_type": "code",
   "execution_count": 13,
   "id": "3b4381fb-1752-440f-9218-0eaa9f37f453",
   "metadata": {},
   "outputs": [
    {
     "data": {
      "text/plain": [
       "('1', '2', '3', '4', '5')"
      ]
     },
     "execution_count": 13,
     "metadata": {},
     "output_type": "execute_result"
    }
   ],
   "source": [
    "l1=[1,2,3,4,5]\n",
    "tuple(map(lambda x:str(x),l1))"
   ]
  },
  {
   "cell_type": "markdown",
   "id": "ab050c84-b9a6-4757-8e10-fcbbd504369c",
   "metadata": {},
   "source": [
    "Ans4:"
   ]
  },
  {
   "cell_type": "code",
   "execution_count": 14,
   "id": "cfb28181-79fa-4edc-b413-b80d08c5ff5c",
   "metadata": {},
   "outputs": [
    {
     "name": "stdout",
     "output_type": "stream",
     "text": [
      "15511210043330985984000000\n"
     ]
    }
   ],
   "source": [
    "from functools import reduce\n",
    "\n",
    "l1 = list(range(1, 26))\n",
    "\n",
    "product = reduce(lambda x, y: x * y, l1)\n",
    "print(product)\n"
   ]
  },
  {
   "cell_type": "markdown",
   "id": "6771273c-c199-4f6f-befd-a975ae98f372",
   "metadata": {},
   "source": [
    "Ans5:"
   ]
  },
  {
   "cell_type": "code",
   "execution_count": 15,
   "id": "a960e0d9-ee57-4ba7-adec-b46d25d75d8d",
   "metadata": {},
   "outputs": [
    {
     "name": "stdout",
     "output_type": "stream",
     "text": [
      "[6, 60, 90, 120]\n"
     ]
    }
   ],
   "source": [
    "l1 = [2, 3, 6, 9, 27, 60, 90, 120, 55, 46]\n",
    "\n",
    "l2 = list(filter(lambda x: x % 2 == 0 and x % 3 == 0, l1))\n",
    "print(l2)\n"
   ]
  },
  {
   "cell_type": "markdown",
   "id": "06d038e9-d202-4473-9942-3d5e5197387f",
   "metadata": {},
   "source": [
    "Ans6:"
   ]
  },
  {
   "cell_type": "code",
   "execution_count": 16,
   "id": "07eed070-72a7-4474-b5fb-81ceb05c16b7",
   "metadata": {},
   "outputs": [
    {
     "name": "stdout",
     "output_type": "stream",
     "text": [
      "['php', 'aba', 'radar', 'level']\n"
     ]
    }
   ],
   "source": [
    "strings = ['python', 'php', 'aba', 'radar', 'level']\n",
    "\n",
    "palindromes = list(filter(lambda x: x == x[::-1], strings))\n",
    "print(palindromes)\n"
   ]
  },
  {
   "cell_type": "markdown",
   "id": "0e4ef2e2-f898-4dda-8cc2-f487148365a1",
   "metadata": {},
   "source": []
  },
  {
   "cell_type": "code",
   "execution_count": null,
   "id": "a6157547-27d1-4180-8ac8-23ec60b41de2",
   "metadata": {},
   "outputs": [],
   "source": []
  }
 ],
 "metadata": {
  "kernelspec": {
   "display_name": "Python 3 (ipykernel)",
   "language": "python",
   "name": "python3"
  },
  "language_info": {
   "codemirror_mode": {
    "name": "ipython",
    "version": 3
   },
   "file_extension": ".py",
   "mimetype": "text/x-python",
   "name": "python",
   "nbconvert_exporter": "python",
   "pygments_lexer": "ipython3",
   "version": "3.10.8"
  }
 },
 "nbformat": 4,
 "nbformat_minor": 5
}
