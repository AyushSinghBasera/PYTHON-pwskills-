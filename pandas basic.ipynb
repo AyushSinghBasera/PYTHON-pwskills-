{
 "cells": [
  {
   "cell_type": "markdown",
   "id": "24c678cf-a70c-47c0-85fe-db3cafdc3986",
   "metadata": {},
   "source": [
    "Ans 1:"
   ]
  },
  {
   "cell_type": "code",
   "execution_count": 1,
   "id": "8210269c-2ba6-43c0-b568-e8cca7fb49d3",
   "metadata": {},
   "outputs": [
    {
     "name": "stdout",
     "output_type": "stream",
     "text": [
      "0     4\n",
      "1     8\n",
      "2    15\n",
      "3    16\n",
      "4    23\n",
      "5    42\n",
      "dtype: int64\n"
     ]
    }
   ],
   "source": [
    "import pandas as pd\n",
    "\n",
    "# Create the Pandas Series\n",
    "data = [4, 8, 15, 16, 23, 42]\n",
    "series = pd.Series(data)\n",
    "\n",
    "# Print the series\n",
    "print(series)\n"
   ]
  },
  {
   "cell_type": "markdown",
   "id": "3af761c8-3dfa-4961-99f1-b24e052140c1",
   "metadata": {},
   "source": [
    "Ans2:"
   ]
  },
  {
   "cell_type": "code",
   "execution_count": 2,
   "id": "17b58056-ec71-4e77-9a96-2771adbaa89c",
   "metadata": {},
   "outputs": [
    {
     "name": "stdout",
     "output_type": "stream",
     "text": [
      "0     1\n",
      "1     2\n",
      "2     3\n",
      "3     4\n",
      "4     5\n",
      "5     6\n",
      "6     7\n",
      "7     8\n",
      "8     9\n",
      "9    10\n",
      "dtype: int64\n"
     ]
    }
   ],
   "source": [
    "import pandas as pd\n",
    "\n",
    "# Create a list with 10 elements\n",
    "my_list = [1, 2, 3, 4, 5, 6, 7, 8, 9, 10]\n",
    "\n",
    "# Convert the list into a Pandas Series\n",
    "series = pd.Series(my_list)\n",
    "\n",
    "# Print the Pandas Series\n",
    "print(series)\n"
   ]
  },
  {
   "cell_type": "markdown",
   "id": "7816355b-3001-465b-9c32-a0e5d88988d9",
   "metadata": {},
   "source": [
    "Ans 3:"
   ]
  },
  {
   "cell_type": "code",
   "execution_count": 3,
   "id": "95c18571-fbdd-4a4e-9958-b7ed8a273252",
   "metadata": {},
   "outputs": [
    {
     "name": "stdout",
     "output_type": "stream",
     "text": [
      "     Name  Age  Gender\n",
      "0   Alice   25  Female\n",
      "1     Bob   30    Male\n",
      "2  Claire   27  Female\n"
     ]
    }
   ],
   "source": [
    "import pandas as pd\n",
    "\n",
    "# Create a dictionary with the data\n",
    "data = {\n",
    "    'Name': ['Alice', 'Bob', 'Claire'],\n",
    "    'Age': [25, 30, 27],\n",
    "    'Gender': ['Female', 'Male', 'Female']\n",
    "}\n",
    "\n",
    "# Convert the dictionary into a Pandas DataFrame\n",
    "df = pd.DataFrame(data)\n",
    "\n",
    "# Print the DataFrame\n",
    "print(df)\n",
    "\n"
   ]
  },
  {
   "cell_type": "markdown",
   "id": "f3bce0f5-3791-4744-8f5a-155c3523465d",
   "metadata": {},
   "source": [
    "Ans4:"
   ]
  },
  {
   "cell_type": "markdown",
   "id": "e6dcb677-eebd-4c62-b965-2c5aab8cff7f",
   "metadata": {},
   "source": [
    "In Pandas, a DataFrame is a 2-dimensional labeled data structure that represents tabular data, similar to a spreadsheet or SQL table. It consists of rows and columns, where each column can contain data of different data types (e.g., integers, strings, floating-point numbers) and is identified by a unique col\n",
    "\n",
    "\n",
    "On the other hand, a Pandas Series is a 1-dimensional labeled array that can hold data of a single data type. It is similar to a Python list or a NumPy array but has additional functionalities and features. Each element in a Series has an associated index, which can be either the default integer index or a user-defined index. A Series is like a single column of data in a DataFrame."
   ]
  },
  {
   "cell_type": "markdown",
   "id": "a75f5152-c20f-4005-af2c-204169f8ded6",
   "metadata": {},
   "source": [
    "Ans5:head() and tail(): These functions are used to view the first few rows (head) or last few rows (tail) of the DataFrame. They are helpful to get a quick glance at the data.\n"
   ]
  },
  {
   "cell_type": "code",
   "execution_count": 4,
   "id": "d248cc34-483f-441a-8d5e-4a66e0045a7f",
   "metadata": {},
   "outputs": [
    {
     "name": "stdout",
     "output_type": "stream",
     "text": [
      "     Name  Age  Gender\n",
      "0   Alice   25  Female\n",
      "1     Bob   30    Male\n",
      "2  Claire   27  Female\n"
     ]
    }
   ],
   "source": [
    "import pandas as pd\n",
    "\n",
    "# Create a sample DataFrame\n",
    "data = {'Name': ['Alice', 'Bob', 'Claire'],\n",
    "        'Age': [25, 30, 27],\n",
    "        'Gender': ['Female', 'Male', 'Female']}\n",
    "df = pd.DataFrame(data)\n",
    "\n",
    "print(df.head())\n",
    "# Output:\n",
    "#     Name  Age  Gender\n",
    "# 0  Alice   25  Female\n",
    "# 1    Bob   30    Male\n",
    "# 2 Claire   27  Female\n"
   ]
  },
  {
   "cell_type": "markdown",
   "id": "0ceae3b4-6a3b-4c6e-a1dd-ac0df0f8b5ce",
   "metadata": {},
   "source": [
    "info(): This function provides a concise summary of the DataFrame, including the column names, data types, non-null counts, and memory usage. It's useful for quickly understanding the structure of the DataFrame.\n"
   ]
  },
  {
   "cell_type": "code",
   "execution_count": 5,
   "id": "a50a088a-a711-4cc5-b1f6-b585c2d4783b",
   "metadata": {},
   "outputs": [
    {
     "name": "stdout",
     "output_type": "stream",
     "text": [
      "<class 'pandas.core.frame.DataFrame'>\n",
      "RangeIndex: 3 entries, 0 to 2\n",
      "Data columns (total 3 columns):\n",
      " #   Column  Non-Null Count  Dtype \n",
      "---  ------  --------------  ----- \n",
      " 0   Name    3 non-null      object\n",
      " 1   Age     3 non-null      int64 \n",
      " 2   Gender  3 non-null      object\n",
      "dtypes: int64(1), object(2)\n",
      "memory usage: 200.0+ bytes\n",
      "None\n"
     ]
    }
   ],
   "source": [
    "print(df.info())\n",
    "# Output:\n",
    "#<class 'pandas.core.frame.DataFrame'>\n",
    "#RangeIndex: 3 entries, 0 to 2\n",
    "#Data columns (total 3 columns):\n",
    "# #   Column  Non-Null Count  Dtype \n",
    "#---  ------  --------------  ----- \n",
    "# 0   Name    3 non-null      object\n",
    "# 1   Age     3 non-null      int64 \n",
    "# 2   Gender  3 non-null      object\n",
    "#dtypes: int64(1), object(2)\n",
    "#memory usage: 251.0+ bytes\n"
   ]
  },
  {
   "cell_type": "markdown",
   "id": "7fc4c26a-7650-451b-92f5-05a05db2f4bc",
   "metadata": {},
   "source": [
    "Ans6:Among the options provided (Series, DataFrame, Panel), both Series and DataFrame are mutable in nature, while Panel is not."
   ]
  },
  {
   "cell_type": "code",
   "execution_count": null,
   "id": "beda2a3e-1c27-4dbf-920c-585bd39ae9fb",
   "metadata": {},
   "outputs": [],
   "source": [
    "Ans 7:"
   ]
  },
  {
   "cell_type": "code",
   "execution_count": 6,
   "id": "c55af3d3-caae-4be1-8c9b-f0fe8db107e8",
   "metadata": {},
   "outputs": [
    {
     "name": "stdout",
     "output_type": "stream",
     "text": [
      "     Name  Age  Gender\n",
      "0   Alice   25  Female\n",
      "1     Bob   30    Male\n",
      "2  Claire   27  Female\n"
     ]
    }
   ],
   "source": [
    "import pandas as pd\n",
    "\n",
    "# Create the Series for different attributes\n",
    "names = pd.Series(['Alice', 'Bob', 'Claire'], name='Name')\n",
    "ages = pd.Series([25, 30, 27], name='Age')\n",
    "genders = pd.Series(['Female', 'Male', 'Female'], name='Gender')\n",
    "\n",
    "# Combine the Series into a dictionary\n",
    "data = {\n",
    "    'Name': names,\n",
    "    'Age': ages,\n",
    "    'Gender': genders\n",
    "}\n",
    "\n",
    "# Convert the dictionary into a DataFrame\n",
    "df = pd.DataFrame(data)\n",
    "\n",
    "# Print the DataFrame\n",
    "print(df)\n"
   ]
  },
  {
   "cell_type": "code",
   "execution_count": null,
   "id": "bb30133f-b43a-4cb5-97b6-f3fd9809408b",
   "metadata": {},
   "outputs": [],
   "source": []
  }
 ],
 "metadata": {
  "kernelspec": {
   "display_name": "Python 3 (ipykernel)",
   "language": "python",
   "name": "python3"
  },
  "language_info": {
   "codemirror_mode": {
    "name": "ipython",
    "version": 3
   },
   "file_extension": ".py",
   "mimetype": "text/x-python",
   "name": "python",
   "nbconvert_exporter": "python",
   "pygments_lexer": "ipython3",
   "version": "3.10.8"
  }
 },
 "nbformat": 4,
 "nbformat_minor": 5
}
