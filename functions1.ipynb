{
 "cells": [
  {
   "cell_type": "markdown",
   "id": "7c612170-49e4-434b-9314-8d7da8a5f1cc",
   "metadata": {},
   "source": [
    "Ans1: The keyword used to create a function in Python is 'def'"
   ]
  },
  {
   "cell_type": "code",
   "execution_count": 1,
   "id": "8beabbe9-d2a0-409d-a614-5c59d31d3fe9",
   "metadata": {},
   "outputs": [
    {
     "name": "stdout",
     "output_type": "stream",
     "text": [
      "[1, 3, 5, 7, 9, 11, 13, 15, 17, 19, 21, 23, 25]\n"
     ]
    }
   ],
   "source": [
    "def odd_numbers():\n",
    "    return [num for num in range(1, 26) if num % 2 != 0]\n",
    "\n",
    "result = odd_numbers()\n",
    "print(result)\n"
   ]
  },
  {
   "cell_type": "markdown",
   "id": "7f9b5de1-ffdd-4b04-acc2-98330a724fc5",
   "metadata": {},
   "source": [
    "Ans2: *args: It is used to pass a variable number of non-keyword (positional) arguments to a function.\n",
    " The *args syntax allows you to pass any number of arguments to a function, and these arguments are \n",
    " collected into a tuple. "
   ]
  },
  {
   "cell_type": "code",
   "execution_count": 2,
   "id": "cb4f7d5d-48c8-4c94-8928-b94d993b877a",
   "metadata": {},
   "outputs": [
    {
     "name": "stdout",
     "output_type": "stream",
     "text": [
      "1\n",
      "2\n",
      "three\n",
      "4.0\n"
     ]
    }
   ],
   "source": [
    "def func_args(*args):\n",
    "    for i in args:\n",
    "        print(i)\n",
    "\n",
    "func_args(1, 2, 'three', 4.0)\n"
   ]
  },
  {
   "cell_type": "markdown",
   "id": "c3f7784c-9953-49ee-bce2-f7d1397230f8",
   "metadata": {},
   "source": [
    "**kwargs: It is used to pass a variable number of keyword arguments to a function. The **kwargs syntax allows you to pass any number of keyword arguments, and these arguments are collected into a dictionary."
   ]
  },
  {
   "cell_type": "code",
   "execution_count": 3,
   "id": "9f41bc72-f15d-430d-ac6c-35b9349b9817",
   "metadata": {},
   "outputs": [
    {
     "name": "stdout",
     "output_type": "stream",
     "text": [
      "a: 1\n",
      "b: two\n",
      "c: 3.0\n"
     ]
    }
   ],
   "source": [
    "def func_kwargs(**kwargs):\n",
    "    for key, value in kwargs.items():\n",
    "        print(f\"{key}: {value}\")\n",
    "\n",
    "func_kwargs(a=1, b='two', c=3.0)\n"
   ]
  },
  {
   "cell_type": "markdown",
   "id": "7e69e4d2-f36d-4df4-8ea9-370c8dc90094",
   "metadata": {},
   "source": [
    "Ans3: An iterator is an object that can be iterated (looped) upon. The two methods used for iterators are iter() for initialization and next() for iteration."
   ]
  },
  {
   "cell_type": "code",
   "execution_count": 4,
   "id": "2fcd7b87-edc2-4d04-962e-dd23447e8eb2",
   "metadata": {},
   "outputs": [
    {
     "name": "stdout",
     "output_type": "stream",
     "text": [
      "2\n",
      "4\n",
      "6\n",
      "8\n",
      "10\n"
     ]
    }
   ],
   "source": [
    "\n",
    "my_list = [2, 4, 6, 8, 10, 12, 14, 16, 18, 20]\n",
    "my_iterator = iter(my_list)\n",
    "\n",
    "# Iterate and print the first five elements\n",
    "for _ in range(5):\n",
    "    print(next(my_iterator))\n"
   ]
  },
  {
   "cell_type": "markdown",
   "id": "20a2a451-ba0b-4b44-92a5-51c1f6e3b6fd",
   "metadata": {},
   "source": [
    "Ans4: A generator function is a special kind of iterator that is defined using a function. The yield keyword is used to produce a sequence of values over time, and it pauses the function's state."
   ]
  },
  {
   "cell_type": "code",
   "execution_count": 5,
   "id": "db86b96a-1540-4d8a-9ef8-543ab8a2fbfc",
   "metadata": {},
   "outputs": [
    {
     "name": "stdout",
     "output_type": "stream",
     "text": [
      "1\n",
      "2\n",
      "3\n",
      "4\n",
      "5\n"
     ]
    }
   ],
   "source": [
    "\n",
    "def count_up_to(n):\n",
    "    i = 1\n",
    "    while i <= n:\n",
    "        yield i\n",
    "        i += 1\n",
    "\n",
    "gen = count_up_to(5)\n",
    "for num in gen:\n",
    "    print(num)\n"
   ]
  },
  {
   "cell_type": "markdown",
   "id": "4b4a15a5-c331-46e8-b106-8ee41c5ffd23",
   "metadata": {},
   "source": [
    "Ans5:"
   ]
  },
  {
   "cell_type": "code",
   "execution_count": 6,
   "id": "4862df03-fb3c-4baf-b5b9-bbd67672f31a",
   "metadata": {},
   "outputs": [
    {
     "name": "stdout",
     "output_type": "stream",
     "text": [
      "2\n",
      "3\n",
      "5\n",
      "7\n",
      "11\n",
      "13\n",
      "17\n",
      "19\n",
      "23\n",
      "29\n",
      "31\n",
      "37\n",
      "41\n",
      "43\n",
      "47\n",
      "53\n",
      "59\n",
      "61\n",
      "67\n",
      "71\n"
     ]
    }
   ],
   "source": [
    "def generate_primes():\n",
    "    primes = []\n",
    "    num = 2\n",
    "    while True:\n",
    "        if all(num % i != 0 for i in primes):\n",
    "            yield num\n",
    "            primes.append(num)\n",
    "        num += 1\n",
    "\n",
    "# Use the generator to print the first 20 prime numbers\n",
    "prime_gen = generate_primes()\n",
    "for _ in range(20):\n",
    "    print(next(prime_gen))\n"
   ]
  },
  {
   "cell_type": "markdown",
   "id": "e14dd52d-19e5-4556-a118-2e706d1ca244",
   "metadata": {},
   "source": [
    "Ans6:"
   ]
  },
  {
   "cell_type": "code",
   "execution_count": 7,
   "id": "cbd38181-2159-48a9-8a80-5e630e3358c7",
   "metadata": {},
   "outputs": [
    {
     "name": "stdout",
     "output_type": "stream",
     "text": [
      "0\n",
      "1\n",
      "1\n",
      "2\n",
      "3\n",
      "5\n",
      "8\n",
      "13\n",
      "21\n",
      "34\n"
     ]
    }
   ],
   "source": [
    "a, b = 0, 1\n",
    "count = 0\n",
    "while count < 10:\n",
    "    print(a)\n",
    "    a, b = b, a + b\n",
    "    count += 1\n"
   ]
  },
  {
   "cell_type": "code",
   "execution_count": null,
   "id": "34bc2ae3-2702-4a21-b3a8-6cf072807e07",
   "metadata": {},
   "outputs": [],
   "source": [
    "Ans7:"
   ]
  },
  {
   "cell_type": "code",
   "execution_count": 13,
   "id": "e73d0360-094a-464a-94e0-a5ff0f9f07d7",
   "metadata": {},
   "outputs": [
    {
     "name": "stdout",
     "output_type": "stream",
     "text": [
      "['p', 'w', 's', 'k', 'i', 'l', 'l', 's']\n"
     ]
    }
   ],
   "source": [
    "str = 'pwskills'\n",
    "l1=[char for char in str]\n",
    "print(l1)\n",
    "\n"
   ]
  },
  {
   "cell_type": "markdown",
   "id": "648b4eca-d572-4217-a869-d182a1ea84f4",
   "metadata": {},
   "source": [
    "ans8:"
   ]
  },
  {
   "cell_type": "code",
   "execution_count": 14,
   "id": "c74ed4e1-eb02-4876-96ef-db8aab06c6ee",
   "metadata": {},
   "outputs": [
    {
     "name": "stdout",
     "output_type": "stream",
     "text": [
      "121 is a palindrome\n"
     ]
    }
   ],
   "source": [
    "def is_palindrome(n):\n",
    "    original_num = n\n",
    "    reversed_num = 0\n",
    "\n",
    "    while n > 0:\n",
    "        digit = n % 10\n",
    "        reversed_num = reversed_num * 10 + digit\n",
    "        n = n// 10\n",
    "\n",
    "    return original_num == reversed_num\n",
    "\n",
    "# Example usage:\n",
    "number_to_check = 121\n",
    "if is_palindrome(number_to_check):\n",
    "    print(f\"{number_to_check} is a palindrome\")\n",
    "else:\n",
    "    print(f\"{number_to_check} is not a palindrome\")\n"
   ]
  },
  {
   "cell_type": "markdown",
   "id": "95005f5e-af4c-42b1-9f8f-64b93e5c1197",
   "metadata": {},
   "source": [
    "ans9:"
   ]
  },
  {
   "cell_type": "code",
   "execution_count": 2,
   "id": "d169da72-b93c-4a93-b47e-523df35d39a5",
   "metadata": {},
   "outputs": [
    {
     "name": "stdout",
     "output_type": "stream",
     "text": [
      "[1, 2, 3, 4, 5, 6, 7, 8, 9, 10, 11, 12, 13, 14, 15, 16, 17, 18, 19, 20, 21, 22, 23, 24, 25, 26, 27, 28, 29, 30, 31, 32, 33, 34, 35, 36, 37, 38, 39, 40, 41, 42, 43, 44, 45, 46, 47, 48, 49, 50, 51, 52, 53, 54, 55, 56, 57, 58, 59, 60, 61, 62, 63, 64, 65, 66, 67, 68, 69, 70, 71, 72, 73, 74, 75, 76, 77, 78, 79, 80, 81, 82, 83, 84, 85, 86, 87, 88, 89, 90, 91, 92, 93, 94, 95, 96, 97, 98, 99, 100]\n"
     ]
    }
   ],
   "source": [
    "l1=list(range(1,101))\n",
    "print(l1)"
   ]
  },
  {
   "cell_type": "code",
   "execution_count": 6,
   "id": "8ce99f3d-d41b-4c32-91ea-1e029db28bd6",
   "metadata": {},
   "outputs": [
    {
     "data": {
      "text/plain": [
       "[1,\n",
       " 3,\n",
       " 5,\n",
       " 7,\n",
       " 9,\n",
       " 11,\n",
       " 13,\n",
       " 15,\n",
       " 17,\n",
       " 19,\n",
       " 21,\n",
       " 23,\n",
       " 25,\n",
       " 27,\n",
       " 29,\n",
       " 31,\n",
       " 33,\n",
       " 35,\n",
       " 37,\n",
       " 39,\n",
       " 41,\n",
       " 43,\n",
       " 45,\n",
       " 47,\n",
       " 49,\n",
       " 51,\n",
       " 53,\n",
       " 55,\n",
       " 57,\n",
       " 59,\n",
       " 61,\n",
       " 63,\n",
       " 65,\n",
       " 67,\n",
       " 69,\n",
       " 71,\n",
       " 73,\n",
       " 75,\n",
       " 77,\n",
       " 79,\n",
       " 81,\n",
       " 83,\n",
       " 85,\n",
       " 87,\n",
       " 89,\n",
       " 91,\n",
       " 93,\n",
       " 95,\n",
       " 97,\n",
       " 99]"
      ]
     },
     "execution_count": 6,
     "metadata": {},
     "output_type": "execute_result"
    }
   ],
   "source": [
    "list(filter(lambda x:x%2!=0,l1))"
   ]
  },
  {
   "cell_type": "code",
   "execution_count": null,
   "id": "f659d67a-d725-4821-8538-e8db39e87fec",
   "metadata": {},
   "outputs": [],
   "source": []
  }
 ],
 "metadata": {
  "kernelspec": {
   "display_name": "Python 3 (ipykernel)",
   "language": "python",
   "name": "python3"
  },
  "language_info": {
   "codemirror_mode": {
    "name": "ipython",
    "version": 3
   },
   "file_extension": ".py",
   "mimetype": "text/x-python",
   "name": "python",
   "nbconvert_exporter": "python",
   "pygments_lexer": "ipython3",
   "version": "3.10.8"
  }
 },
 "nbformat": 4,
 "nbformat_minor": 5
}
